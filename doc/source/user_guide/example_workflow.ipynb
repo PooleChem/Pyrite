{
 "cells": [
  {
   "metadata": {},
   "cell_type": "markdown",
   "source": "# Example workflow",
   "id": "78385392cfe1f5a0"
  },
  {
   "metadata": {},
   "cell_type": "markdown",
   "source": [
    "{class}`~pyrite.Ligand` is the backbone of {mod}`pyrite`. It allows you to load and manipulate molecules, visualize and save conformations, and create and optimize docking workflows. On this page, we will get to know the Ligand object, and learn how to effectively use it.\n",
    "\n",
    "The {class}`~pyrite.Ligand` object is an extension of the rdkit {class}`~rdkit.Chem.rdchem.Mol` object. This means that any method that works on a Mol object also works on a Ligand object. For example, we can use the rdkit {meth}`~rdkit.Chem.rdchem.Mol.GetNumHeavyAtoms` method to retrieve the number of heavy atoms in our Ligand:"
   ],
   "id": "31dcb91b088333e5"
  },
  {
   "metadata": {
    "tags": [
     "remove_cell"
    ],
    "ExecuteTime": {
     "end_time": "2025-06-16T07:10:58.495788Z",
     "start_time": "2025-06-16T07:10:58.492887Z"
    }
   },
   "cell_type": "code",
   "source": [
    "import sys\n",
    "import os\n",
    "\n",
    "bp = os.path.expanduser(\"~/Dev/bp\")\n",
    "sys.path.append(bp)\n",
    "from pyrite import *\n",
    "from rdkit import Chem\n",
    "import numpy as np"
   ],
   "id": "ad9a53359a2edf9e",
   "outputs": [],
   "execution_count": 91
  },
  {
   "metadata": {
    "ExecuteTime": {
     "end_time": "2025-06-16T07:10:58.513604Z",
     "start_time": "2025-06-16T07:10:58.504506Z"
    }
   },
   "cell_type": "code",
   "source": [
    "ligand = Ligand.from_smiles(\"CCCO\")\n",
    "ligand.GetNumHeavyAtoms()"
   ],
   "id": "6023db6245238c4d",
   "outputs": [
    {
     "data": {
      "text/plain": [
       "4"
      ]
     },
     "execution_count": 92,
     "metadata": {},
     "output_type": "execute_result"
    }
   ],
   "execution_count": 92
  },
  {
   "metadata": {
    "ExecuteTime": {
     "end_time": "2025-06-16T07:10:58.530130Z",
     "start_time": "2025-06-16T07:10:58.528144Z"
    },
    "tags": [
     "remove_cell"
    ]
   },
   "cell_type": "code",
   "source": "ligand.set_draw_options({'size': (240, 180)})",
   "id": "cfe4e1c28fd29d2c",
   "outputs": [],
   "execution_count": 93
  },
  {
   "metadata": {},
   "cell_type": "markdown",
   "source": "## Creating Ligands",
   "id": "7af857931850a6ef"
  },
  {
   "metadata": {},
   "cell_type": "markdown",
   "source": "Coming soon...",
   "id": "a30ab012f5d2c132"
  },
  {
   "metadata": {
    "ExecuteTime": {
     "end_time": "2025-06-16T07:10:58.539607Z",
     "start_time": "2025-06-16T07:10:58.536835Z"
    }
   },
   "cell_type": "code",
   "source": "ligand.svg",
   "id": "f315b8a73f5249eb",
   "outputs": [
    {
     "data": {
      "text/plain": [
       "<IPython.core.display.SVG object>"
      ],
      "image/svg+xml": "<svg xmlns=\"http://www.w3.org/2000/svg\" xmlns:rdkit=\"http://www.rdkit.org/xml\" xmlns:xlink=\"http://www.w3.org/1999/xlink\" version=\"1.1\" baseProfile=\"full\" xml:space=\"preserve\" width=\"240px\" height=\"180px\" viewBox=\"0 0 240 180\">\n<!-- END OF HEADER -->\n<rect style=\"opacity:1.0;fill:#FFFFFF;stroke:none\" width=\"240.0\" height=\"180.0\" x=\"0.0\" y=\"0.0\"> </rect>\n<path class=\"bond-0 atom-0 atom-1\" d=\"M 183.5,109.9 L 128.1,60.4\" style=\"fill:none;fill-rule:evenodd;stroke:#000000;stroke-width:2.0px;stroke-linecap:butt;stroke-linejoin:miter;stroke-opacity:1\"/>\n<path class=\"bond-1 atom-1 atom-2\" d=\"M 128.1,60.4 L 63.8,97.1\" style=\"fill:none;fill-rule:evenodd;stroke:#000000;stroke-width:2.0px;stroke-linecap:butt;stroke-linejoin:miter;stroke-opacity:1\"/>\n<path class=\"bond-2 atom-2 atom-3\" d=\"M 63.8,97.1 L 62.9,116.1\" style=\"fill:none;fill-rule:evenodd;stroke:#000000;stroke-width:2.0px;stroke-linecap:butt;stroke-linejoin:miter;stroke-opacity:1\"/>\n<path class=\"bond-2 atom-2 atom-3\" d=\"M 62.9,116.1 L 62.0,135.1\" style=\"fill:none;fill-rule:evenodd;stroke:#FF0000;stroke-width:2.0px;stroke-linecap:butt;stroke-linejoin:miter;stroke-opacity:1\"/>\n<path class=\"bond-3 atom-0 atom-4\" d=\"M 183.5,109.9 L 169.3,148.1\" style=\"fill:none;fill-rule:evenodd;stroke:#000000;stroke-width:2.0px;stroke-linecap:butt;stroke-linejoin:miter;stroke-opacity:1\"/>\n<path class=\"bond-4 atom-0 atom-5\" d=\"M 183.5,109.9 L 209.3,108.6\" style=\"fill:none;fill-rule:evenodd;stroke:#000000;stroke-width:2.0px;stroke-linecap:butt;stroke-linejoin:miter;stroke-opacity:1\"/>\n<path class=\"bond-5 atom-0 atom-6\" d=\"M 183.5,109.9 L 200.3,104.0\" style=\"fill:none;fill-rule:evenodd;stroke:#000000;stroke-width:2.0px;stroke-linecap:butt;stroke-linejoin:miter;stroke-opacity:1\"/>\n<path class=\"bond-6 atom-1 atom-7\" d=\"M 128.1,60.4 L 127.4,55.6\" style=\"fill:none;fill-rule:evenodd;stroke:#000000;stroke-width:2.0px;stroke-linecap:butt;stroke-linejoin:miter;stroke-opacity:1\"/>\n<path class=\"bond-7 atom-1 atom-8\" d=\"M 128.1,60.4 L 132.5,31.9\" style=\"fill:none;fill-rule:evenodd;stroke:#000000;stroke-width:2.0px;stroke-linecap:butt;stroke-linejoin:miter;stroke-opacity:1\"/>\n<path class=\"bond-8 atom-2 atom-9\" d=\"M 63.8,97.1 L 30.7,72.8\" style=\"fill:none;fill-rule:evenodd;stroke:#000000;stroke-width:2.0px;stroke-linecap:butt;stroke-linejoin:miter;stroke-opacity:1\"/>\n<path class=\"bond-9 atom-2 atom-10\" d=\"M 63.8,97.1 L 67.3,107.1\" style=\"fill:none;fill-rule:evenodd;stroke:#000000;stroke-width:2.0px;stroke-linecap:butt;stroke-linejoin:miter;stroke-opacity:1\"/>\n<path class=\"atom-3\" d=\"M 51.9 147.8 Q 51.9 142.7, 54.3 139.9 Q 56.8 137.1, 61.5 137.1 Q 66.1 137.1, 68.6 139.9 Q 71.1 142.7, 71.1 147.8 Q 71.1 152.8, 68.5 155.7 Q 66.0 158.6, 61.5 158.6 Q 56.9 158.6, 54.3 155.7 Q 51.9 152.9, 51.9 147.8 M 61.5 156.2 Q 64.6 156.2, 66.4 154.1 Q 68.1 151.9, 68.1 147.8 Q 68.1 143.7, 66.4 141.6 Q 64.6 139.5, 61.5 139.5 Q 58.3 139.5, 56.5 141.6 Q 54.8 143.6, 54.8 147.8 Q 54.8 152.0, 56.5 154.1 Q 58.3 156.2, 61.5 156.2 \" fill=\"#FF0000\"/>\n<path class=\"atom-3\" d=\"M 74.0 140.5 L 81.2 140.5 L 81.2 142.1 L 74.0 142.1 L 74.0 140.5 \" fill=\"#FF0000\"/>\n<path class=\"atom-4\" d=\"M 156.5 150.1 L 159.3 150.1 L 159.3 159.0 L 170.0 159.0 L 170.0 150.1 L 172.8 150.1 L 172.8 171.0 L 170.0 171.0 L 170.0 161.3 L 159.3 161.3 L 159.3 171.0 L 156.5 171.0 L 156.5 150.1 \" fill=\"#000000\"/>\n<path class=\"atom-5\" d=\"M 211.3 97.7 L 214.1 97.7 L 214.1 106.6 L 224.8 106.6 L 224.8 97.7 L 227.6 97.7 L 227.6 118.6 L 224.8 118.6 L 224.8 108.9 L 214.1 108.9 L 214.1 118.6 L 211.3 118.6 L 211.3 97.7 \" fill=\"#000000\"/>\n<path class=\"atom-6\" d=\"M 202.2 90.0 L 205.1 90.0 L 205.1 98.9 L 215.7 98.9 L 215.7 90.0 L 218.6 90.0 L 218.6 110.9 L 215.7 110.9 L 215.7 101.2 L 205.1 101.2 L 205.1 110.9 L 202.2 110.9 L 202.2 90.0 \" fill=\"#000000\"/>\n<path class=\"atom-7\" d=\"M 117.4 32.7 L 120.2 32.7 L 120.2 41.6 L 130.9 41.6 L 130.9 32.7 L 133.7 32.7 L 133.7 53.6 L 130.9 53.6 L 130.9 44.0 L 120.2 44.0 L 120.2 53.6 L 117.4 53.6 L 117.4 32.7 \" fill=\"#000000\"/>\n<path class=\"atom-8\" d=\"M 126.2 9.0 L 129.0 9.0 L 129.0 17.9 L 139.7 17.9 L 139.7 9.0 L 142.5 9.0 L 142.5 29.9 L 139.7 29.9 L 139.7 20.2 L 129.0 20.2 L 129.0 29.9 L 126.2 29.9 L 126.2 9.0 \" fill=\"#000000\"/>\n<path class=\"atom-9\" d=\"M 12.4 54.9 L 15.2 54.9 L 15.2 63.8 L 25.9 63.8 L 25.9 54.9 L 28.7 54.9 L 28.7 75.8 L 25.9 75.8 L 25.9 66.1 L 15.2 66.1 L 15.2 75.8 L 12.4 75.8 L 12.4 54.9 \" fill=\"#000000\"/>\n<path class=\"atom-10\" d=\"M 63.4 109.1 L 66.2 109.1 L 66.2 118.0 L 76.9 118.0 L 76.9 109.1 L 79.7 109.1 L 79.7 130.0 L 76.9 130.0 L 76.9 120.4 L 66.2 120.4 L 66.2 130.0 L 63.4 130.0 L 63.4 109.1 \" fill=\"#000000\"/>\n</svg>"
     },
     "execution_count": 94,
     "metadata": {},
     "output_type": "execute_result"
    }
   ],
   "execution_count": 94
  },
  {
   "metadata": {},
   "cell_type": "markdown",
   "source": "## Manipulating Ligands",
   "id": "dab747d665e7f7ca"
  },
  {
   "metadata": {},
   "cell_type": "markdown",
   "source": "Another crucial property of {class}`Ligand` is the ability to easily change the conformation, rotation and position of the ligand. There is immediately an important distinction to make here. Every ligand has a default conformer. This is the conformation that was used in the initial creation of the ligand. When the ligand is manipulated without specifying a `conformer id`, this is the conformer that is changed. This simplifies the code needed:",
   "id": "dab08506e8ef2c38"
  },
  {
   "metadata": {
    "ExecuteTime": {
     "end_time": "2025-06-16T07:10:58.551970Z",
     "start_time": "2025-06-16T07:10:58.548740Z"
    }
   },
   "cell_type": "code",
   "source": [
    "ligand.transform(np.pi, np.pi, 0, 0, 0, 0)\n",
    "ligand.svg"
   ],
   "id": "afdd202f35b47f60",
   "outputs": [
    {
     "data": {
      "text/plain": [
       "<IPython.core.display.SVG object>"
      ],
      "image/svg+xml": "<svg xmlns=\"http://www.w3.org/2000/svg\" xmlns:rdkit=\"http://www.rdkit.org/xml\" xmlns:xlink=\"http://www.w3.org/1999/xlink\" version=\"1.1\" baseProfile=\"full\" xml:space=\"preserve\" width=\"240px\" height=\"180px\" viewBox=\"0 0 240 180\">\n<!-- END OF HEADER -->\n<rect style=\"opacity:1.0;fill:#FFFFFF;stroke:none\" width=\"240.0\" height=\"180.0\" x=\"0.0\" y=\"0.0\"> </rect>\n<path class=\"bond-0 atom-0 atom-1\" d=\"M 56.5,70.1 L 111.9,119.6\" style=\"fill:none;fill-rule:evenodd;stroke:#000000;stroke-width:2.0px;stroke-linecap:butt;stroke-linejoin:miter;stroke-opacity:1\"/>\n<path class=\"bond-1 atom-1 atom-2\" d=\"M 111.9,119.6 L 176.2,82.9\" style=\"fill:none;fill-rule:evenodd;stroke:#000000;stroke-width:2.0px;stroke-linecap:butt;stroke-linejoin:miter;stroke-opacity:1\"/>\n<path class=\"bond-2 atom-2 atom-3\" d=\"M 176.2,82.9 L 177.1,64.0\" style=\"fill:none;fill-rule:evenodd;stroke:#000000;stroke-width:2.0px;stroke-linecap:butt;stroke-linejoin:miter;stroke-opacity:1\"/>\n<path class=\"bond-2 atom-2 atom-3\" d=\"M 177.1,64.0 L 177.9,45.2\" style=\"fill:none;fill-rule:evenodd;stroke:#FF0000;stroke-width:2.0px;stroke-linecap:butt;stroke-linejoin:miter;stroke-opacity:1\"/>\n<path class=\"bond-3 atom-0 atom-4\" d=\"M 56.5,70.1 L 70.7,31.9\" style=\"fill:none;fill-rule:evenodd;stroke:#000000;stroke-width:2.0px;stroke-linecap:butt;stroke-linejoin:miter;stroke-opacity:1\"/>\n<path class=\"bond-4 atom-0 atom-5\" d=\"M 56.5,70.1 L 30.7,71.4\" style=\"fill:none;fill-rule:evenodd;stroke:#000000;stroke-width:2.0px;stroke-linecap:butt;stroke-linejoin:miter;stroke-opacity:1\"/>\n<path class=\"bond-5 atom-0 atom-6\" d=\"M 56.5,70.1 L 39.7,76.0\" style=\"fill:none;fill-rule:evenodd;stroke:#000000;stroke-width:2.0px;stroke-linecap:butt;stroke-linejoin:miter;stroke-opacity:1\"/>\n<path class=\"bond-6 atom-1 atom-7\" d=\"M 111.9,119.6 L 112.6,124.4\" style=\"fill:none;fill-rule:evenodd;stroke:#000000;stroke-width:2.0px;stroke-linecap:butt;stroke-linejoin:miter;stroke-opacity:1\"/>\n<path class=\"bond-7 atom-1 atom-8\" d=\"M 111.9,119.6 L 107.5,148.1\" style=\"fill:none;fill-rule:evenodd;stroke:#000000;stroke-width:2.0px;stroke-linecap:butt;stroke-linejoin:miter;stroke-opacity:1\"/>\n<path class=\"bond-8 atom-2 atom-9\" d=\"M 176.2,82.9 L 209.3,107.2\" style=\"fill:none;fill-rule:evenodd;stroke:#000000;stroke-width:2.0px;stroke-linecap:butt;stroke-linejoin:miter;stroke-opacity:1\"/>\n<path class=\"bond-9 atom-2 atom-10\" d=\"M 176.2,82.9 L 172.7,72.9\" style=\"fill:none;fill-rule:evenodd;stroke:#000000;stroke-width:2.0px;stroke-linecap:butt;stroke-linejoin:miter;stroke-opacity:1\"/>\n<path class=\"atom-3\" d=\"M 168.9 32.4 Q 168.9 27.3, 171.4 24.5 Q 173.9 21.7, 178.5 21.7 Q 183.2 21.7, 185.7 24.5 Q 188.1 27.3, 188.1 32.4 Q 188.1 37.4, 185.6 40.3 Q 183.1 43.2, 178.5 43.2 Q 173.9 43.2, 171.4 40.3 Q 168.9 37.5, 168.9 32.4 M 178.5 40.8 Q 181.7 40.8, 183.4 38.7 Q 185.2 36.6, 185.2 32.4 Q 185.2 28.3, 183.4 26.2 Q 181.7 24.1, 178.5 24.1 Q 175.4 24.1, 173.6 26.2 Q 171.9 28.2, 171.9 32.4 Q 171.9 36.6, 173.6 38.7 Q 175.4 40.8, 178.5 40.8 \" fill=\"#FF0000\"/>\n<path class=\"atom-3\" d=\"M 191.1 25.1 L 198.3 25.1 L 198.3 26.7 L 191.1 26.7 L 191.1 25.1 \" fill=\"#FF0000\"/>\n<path class=\"atom-4\" d=\"M 67.2 9.0 L 70.0 9.0 L 70.0 17.9 L 80.7 17.9 L 80.7 9.0 L 83.5 9.0 L 83.5 29.9 L 80.7 29.9 L 80.7 20.2 L 70.0 20.2 L 70.0 29.9 L 67.2 29.9 L 67.2 9.0 \" fill=\"#000000\"/>\n<path class=\"atom-5\" d=\"M 12.4 61.4 L 15.2 61.4 L 15.2 70.3 L 25.9 70.3 L 25.9 61.4 L 28.7 61.4 L 28.7 82.3 L 25.9 82.3 L 25.9 72.7 L 15.2 72.7 L 15.2 82.3 L 12.4 82.3 L 12.4 61.4 \" fill=\"#000000\"/>\n<path class=\"atom-6\" d=\"M 21.4 69.1 L 24.3 69.1 L 24.3 78.0 L 34.9 78.0 L 34.9 69.1 L 37.8 69.1 L 37.8 90.0 L 34.9 90.0 L 34.9 80.4 L 24.3 80.4 L 24.3 90.0 L 21.4 90.0 L 21.4 69.1 \" fill=\"#000000\"/>\n<path class=\"atom-7\" d=\"M 106.3 126.4 L 109.1 126.4 L 109.1 135.2 L 119.8 135.2 L 119.8 126.4 L 122.6 126.4 L 122.6 147.3 L 119.8 147.3 L 119.8 137.6 L 109.1 137.6 L 109.1 147.3 L 106.3 147.3 L 106.3 126.4 \" fill=\"#000000\"/>\n<path class=\"atom-8\" d=\"M 97.5 150.1 L 100.3 150.1 L 100.3 159.0 L 111.0 159.0 L 111.0 150.1 L 113.8 150.1 L 113.8 171.0 L 111.0 171.0 L 111.0 161.3 L 100.3 161.3 L 100.3 171.0 L 97.5 171.0 L 97.5 150.1 \" fill=\"#000000\"/>\n<path class=\"atom-9\" d=\"M 211.3 104.2 L 214.1 104.2 L 214.1 113.1 L 224.8 113.1 L 224.8 104.2 L 227.6 104.2 L 227.6 125.1 L 224.8 125.1 L 224.8 115.5 L 214.1 115.5 L 214.1 125.1 L 211.3 125.1 L 211.3 104.2 \" fill=\"#000000\"/>\n<path class=\"atom-10\" d=\"M 160.3 50.0 L 163.1 50.0 L 163.1 58.9 L 173.8 58.9 L 173.8 50.0 L 176.6 50.0 L 176.6 70.9 L 173.8 70.9 L 173.8 61.2 L 163.1 61.2 L 163.1 70.9 L 160.3 70.9 L 160.3 50.0 \" fill=\"#000000\"/>\n</svg>"
     },
     "execution_count": 95,
     "metadata": {},
     "output_type": "execute_result"
    }
   ],
   "execution_count": 95
  },
  {
   "metadata": {},
   "cell_type": "markdown",
   "source": [
    "However, this method of manipulation removes a lot of our flexibility. For example, it is now no longer possible to create a multithreaded program using one ligand, as we are working based on side-effects now.\n",
    "\n",
    "To solve this issue, we can specify a `conformer id` as an argument to most methods. This will make the method act only on that `conformer id`:"
   ],
   "id": "c5caef4fbceadf31"
  },
  {
   "metadata": {
    "ExecuteTime": {
     "end_time": "2025-06-16T07:10:58.560532Z",
     "start_time": "2025-06-16T07:10:58.557538Z"
    }
   },
   "cell_type": "code",
   "source": [
    "conf_id = ligand.AddConformer(ligand.GetConformer(), assignId=True)\n",
    "ligand.transform(np.pi, np.pi, 0, 0, 0, 0, conf_id)\n",
    "ligand.svg"
   ],
   "id": "261c4f42e599e6b2",
   "outputs": [
    {
     "data": {
      "text/plain": [
       "<IPython.core.display.SVG object>"
      ],
      "image/svg+xml": "<svg xmlns=\"http://www.w3.org/2000/svg\" xmlns:rdkit=\"http://www.rdkit.org/xml\" xmlns:xlink=\"http://www.w3.org/1999/xlink\" version=\"1.1\" baseProfile=\"full\" xml:space=\"preserve\" width=\"240px\" height=\"180px\" viewBox=\"0 0 240 180\">\n<!-- END OF HEADER -->\n<rect style=\"opacity:1.0;fill:#FFFFFF;stroke:none\" width=\"240.0\" height=\"180.0\" x=\"0.0\" y=\"0.0\"> </rect>\n<path class=\"bond-0 atom-0 atom-1\" d=\"M 56.5,70.1 L 111.9,119.6\" style=\"fill:none;fill-rule:evenodd;stroke:#000000;stroke-width:2.0px;stroke-linecap:butt;stroke-linejoin:miter;stroke-opacity:1\"/>\n<path class=\"bond-1 atom-1 atom-2\" d=\"M 111.9,119.6 L 176.2,82.9\" style=\"fill:none;fill-rule:evenodd;stroke:#000000;stroke-width:2.0px;stroke-linecap:butt;stroke-linejoin:miter;stroke-opacity:1\"/>\n<path class=\"bond-2 atom-2 atom-3\" d=\"M 176.2,82.9 L 177.1,64.0\" style=\"fill:none;fill-rule:evenodd;stroke:#000000;stroke-width:2.0px;stroke-linecap:butt;stroke-linejoin:miter;stroke-opacity:1\"/>\n<path class=\"bond-2 atom-2 atom-3\" d=\"M 177.1,64.0 L 177.9,45.2\" style=\"fill:none;fill-rule:evenodd;stroke:#FF0000;stroke-width:2.0px;stroke-linecap:butt;stroke-linejoin:miter;stroke-opacity:1\"/>\n<path class=\"bond-3 atom-0 atom-4\" d=\"M 56.5,70.1 L 70.7,31.9\" style=\"fill:none;fill-rule:evenodd;stroke:#000000;stroke-width:2.0px;stroke-linecap:butt;stroke-linejoin:miter;stroke-opacity:1\"/>\n<path class=\"bond-4 atom-0 atom-5\" d=\"M 56.5,70.1 L 30.7,71.4\" style=\"fill:none;fill-rule:evenodd;stroke:#000000;stroke-width:2.0px;stroke-linecap:butt;stroke-linejoin:miter;stroke-opacity:1\"/>\n<path class=\"bond-5 atom-0 atom-6\" d=\"M 56.5,70.1 L 39.7,76.0\" style=\"fill:none;fill-rule:evenodd;stroke:#000000;stroke-width:2.0px;stroke-linecap:butt;stroke-linejoin:miter;stroke-opacity:1\"/>\n<path class=\"bond-6 atom-1 atom-7\" d=\"M 111.9,119.6 L 112.6,124.4\" style=\"fill:none;fill-rule:evenodd;stroke:#000000;stroke-width:2.0px;stroke-linecap:butt;stroke-linejoin:miter;stroke-opacity:1\"/>\n<path class=\"bond-7 atom-1 atom-8\" d=\"M 111.9,119.6 L 107.5,148.1\" style=\"fill:none;fill-rule:evenodd;stroke:#000000;stroke-width:2.0px;stroke-linecap:butt;stroke-linejoin:miter;stroke-opacity:1\"/>\n<path class=\"bond-8 atom-2 atom-9\" d=\"M 176.2,82.9 L 209.3,107.2\" style=\"fill:none;fill-rule:evenodd;stroke:#000000;stroke-width:2.0px;stroke-linecap:butt;stroke-linejoin:miter;stroke-opacity:1\"/>\n<path class=\"bond-9 atom-2 atom-10\" d=\"M 176.2,82.9 L 172.7,72.9\" style=\"fill:none;fill-rule:evenodd;stroke:#000000;stroke-width:2.0px;stroke-linecap:butt;stroke-linejoin:miter;stroke-opacity:1\"/>\n<path class=\"atom-3\" d=\"M 168.9 32.4 Q 168.9 27.3, 171.4 24.5 Q 173.9 21.7, 178.5 21.7 Q 183.2 21.7, 185.7 24.5 Q 188.1 27.3, 188.1 32.4 Q 188.1 37.4, 185.6 40.3 Q 183.1 43.2, 178.5 43.2 Q 173.9 43.2, 171.4 40.3 Q 168.9 37.5, 168.9 32.4 M 178.5 40.8 Q 181.7 40.8, 183.4 38.7 Q 185.2 36.6, 185.2 32.4 Q 185.2 28.3, 183.4 26.2 Q 181.7 24.1, 178.5 24.1 Q 175.4 24.1, 173.6 26.2 Q 171.9 28.2, 171.9 32.4 Q 171.9 36.6, 173.6 38.7 Q 175.4 40.8, 178.5 40.8 \" fill=\"#FF0000\"/>\n<path class=\"atom-3\" d=\"M 191.1 25.1 L 198.3 25.1 L 198.3 26.7 L 191.1 26.7 L 191.1 25.1 \" fill=\"#FF0000\"/>\n<path class=\"atom-4\" d=\"M 67.2 9.0 L 70.0 9.0 L 70.0 17.9 L 80.7 17.9 L 80.7 9.0 L 83.5 9.0 L 83.5 29.9 L 80.7 29.9 L 80.7 20.2 L 70.0 20.2 L 70.0 29.9 L 67.2 29.9 L 67.2 9.0 \" fill=\"#000000\"/>\n<path class=\"atom-5\" d=\"M 12.4 61.4 L 15.2 61.4 L 15.2 70.3 L 25.9 70.3 L 25.9 61.4 L 28.7 61.4 L 28.7 82.3 L 25.9 82.3 L 25.9 72.7 L 15.2 72.7 L 15.2 82.3 L 12.4 82.3 L 12.4 61.4 \" fill=\"#000000\"/>\n<path class=\"atom-6\" d=\"M 21.4 69.1 L 24.3 69.1 L 24.3 78.0 L 34.9 78.0 L 34.9 69.1 L 37.8 69.1 L 37.8 90.0 L 34.9 90.0 L 34.9 80.4 L 24.3 80.4 L 24.3 90.0 L 21.4 90.0 L 21.4 69.1 \" fill=\"#000000\"/>\n<path class=\"atom-7\" d=\"M 106.3 126.4 L 109.1 126.4 L 109.1 135.2 L 119.8 135.2 L 119.8 126.4 L 122.6 126.4 L 122.6 147.3 L 119.8 147.3 L 119.8 137.6 L 109.1 137.6 L 109.1 147.3 L 106.3 147.3 L 106.3 126.4 \" fill=\"#000000\"/>\n<path class=\"atom-8\" d=\"M 97.5 150.1 L 100.3 150.1 L 100.3 159.0 L 111.0 159.0 L 111.0 150.1 L 113.8 150.1 L 113.8 171.0 L 111.0 171.0 L 111.0 161.3 L 100.3 161.3 L 100.3 171.0 L 97.5 171.0 L 97.5 150.1 \" fill=\"#000000\"/>\n<path class=\"atom-9\" d=\"M 211.3 104.2 L 214.1 104.2 L 214.1 113.1 L 224.8 113.1 L 224.8 104.2 L 227.6 104.2 L 227.6 125.1 L 224.8 125.1 L 224.8 115.5 L 214.1 115.5 L 214.1 125.1 L 211.3 125.1 L 211.3 104.2 \" fill=\"#000000\"/>\n<path class=\"atom-10\" d=\"M 160.3 50.0 L 163.1 50.0 L 163.1 58.9 L 173.8 58.9 L 173.8 50.0 L 176.6 50.0 L 176.6 70.9 L 173.8 70.9 L 173.8 61.2 L 163.1 61.2 L 163.1 70.9 L 160.3 70.9 L 160.3 50.0 \" fill=\"#000000\"/>\n</svg>"
     },
     "execution_count": 96,
     "metadata": {},
     "output_type": "execute_result"
    }
   ],
   "execution_count": 96
  },
  {
   "metadata": {},
   "cell_type": "markdown",
   "source": "It is important to remove the conformer when it is not needed anymore, especially when creating conformers often. The memory footprint of a single conformer is not that big, but when running a docking workflow for example, hundreds of thousands of conformers can be created, quickly grinding the program to a halt as your RAM fills up.",
   "id": "9b736904d87c8bfa"
  },
  {
   "metadata": {},
   "cell_type": "code",
   "outputs": [],
   "execution_count": null,
   "source": "ligand.RemoveConformer(conf_id)",
   "id": "59d766adf3880caf"
  },
  {
   "metadata": {},
   "cell_type": "markdown",
   "source": "A Ligand can be manipulated in three ways: by translation and rotation, and by modifying the dihedral angles within the molecule. As shown above, the {meth}`~pyrite.Ligand.transform` method is used when modifying the rotation and translation of the molecule. For modification of the dihedral angles, the {meth}`~pyrite.Ligand.set_dihedral_angles` method can be used:",
   "id": "ee19367d8e4f8757"
  },
  {
   "metadata": {
    "ExecuteTime": {
     "end_time": "2025-06-16T07:10:58.569703Z",
     "start_time": "2025-06-16T07:10:58.566809Z"
    }
   },
   "cell_type": "code",
   "source": [
    "ligand.set_dihedral_angles([np.pi])\n",
    "ligand.svg"
   ],
   "id": "12764f7c96d18925",
   "outputs": [
    {
     "data": {
      "text/plain": [
       "<IPython.core.display.SVG object>"
      ],
      "image/svg+xml": "<svg xmlns=\"http://www.w3.org/2000/svg\" xmlns:rdkit=\"http://www.rdkit.org/xml\" xmlns:xlink=\"http://www.w3.org/1999/xlink\" version=\"1.1\" baseProfile=\"full\" xml:space=\"preserve\" width=\"240px\" height=\"180px\" viewBox=\"0 0 240 180\">\n<!-- END OF HEADER -->\n<rect style=\"opacity:1.0;fill:#FFFFFF;stroke:none\" width=\"240.0\" height=\"180.0\" x=\"0.0\" y=\"0.0\"> </rect>\n<path class=\"bond-0 atom-0 atom-1\" d=\"M 52.7,71.6 L 103.9,117.3\" style=\"fill:none;fill-rule:evenodd;stroke:#000000;stroke-width:2.0px;stroke-linecap:butt;stroke-linejoin:miter;stroke-opacity:1\"/>\n<path class=\"bond-1 atom-1 atom-2\" d=\"M 103.9,117.3 L 163.3,83.4\" style=\"fill:none;fill-rule:evenodd;stroke:#000000;stroke-width:2.0px;stroke-linecap:butt;stroke-linejoin:miter;stroke-opacity:1\"/>\n<path class=\"bond-2 atom-2 atom-3\" d=\"M 163.3,83.4 L 181.2,100.0\" style=\"fill:none;fill-rule:evenodd;stroke:#000000;stroke-width:2.0px;stroke-linecap:butt;stroke-linejoin:miter;stroke-opacity:1\"/>\n<path class=\"bond-2 atom-2 atom-3\" d=\"M 181.2,100.0 L 199.1,116.6\" style=\"fill:none;fill-rule:evenodd;stroke:#FF0000;stroke-width:2.0px;stroke-linecap:butt;stroke-linejoin:miter;stroke-opacity:1\"/>\n<path class=\"bond-3 atom-0 atom-4\" d=\"M 52.7,71.6 L 65.9,36.3\" style=\"fill:none;fill-rule:evenodd;stroke:#000000;stroke-width:2.0px;stroke-linecap:butt;stroke-linejoin:miter;stroke-opacity:1\"/>\n<path class=\"bond-4 atom-0 atom-5\" d=\"M 52.7,71.6 L 28.9,72.8\" style=\"fill:none;fill-rule:evenodd;stroke:#000000;stroke-width:2.0px;stroke-linecap:butt;stroke-linejoin:miter;stroke-opacity:1\"/>\n<path class=\"bond-5 atom-0 atom-6\" d=\"M 52.7,71.6 L 37.3,77.0\" style=\"fill:none;fill-rule:evenodd;stroke:#000000;stroke-width:2.0px;stroke-linecap:butt;stroke-linejoin:miter;stroke-opacity:1\"/>\n<path class=\"bond-6 atom-1 atom-7\" d=\"M 103.9,117.3 L 104.6,121.8\" style=\"fill:none;fill-rule:evenodd;stroke:#000000;stroke-width:2.0px;stroke-linecap:butt;stroke-linejoin:miter;stroke-opacity:1\"/>\n<path class=\"bond-7 atom-1 atom-8\" d=\"M 103.9,117.3 L 99.9,143.7\" style=\"fill:none;fill-rule:evenodd;stroke:#000000;stroke-width:2.0px;stroke-linecap:butt;stroke-linejoin:miter;stroke-opacity:1\"/>\n<path class=\"bond-8 atom-2 atom-9\" d=\"M 163.3,83.4 L 164.2,73.3\" style=\"fill:none;fill-rule:evenodd;stroke:#000000;stroke-width:2.0px;stroke-linecap:butt;stroke-linejoin:miter;stroke-opacity:1\"/>\n<path class=\"bond-9 atom-2 atom-10\" d=\"M 163.3,83.4 L 164.7,61.4\" style=\"fill:none;fill-rule:evenodd;stroke:#000000;stroke-width:2.0px;stroke-linecap:butt;stroke-linejoin:miter;stroke-opacity:1\"/>\n<path class=\"atom-3\" d=\"M 200.9 126.5 Q 200.9 121.9, 203.2 119.3 Q 205.5 116.7, 209.8 116.7 Q 214.1 116.7, 216.4 119.3 Q 218.6 121.9, 218.6 126.5 Q 218.6 131.2, 216.3 133.9 Q 214.0 136.5, 209.8 136.5 Q 205.5 136.5, 203.2 133.9 Q 200.9 131.2, 200.9 126.5 M 209.8 134.3 Q 212.7 134.3, 214.3 132.4 Q 215.9 130.4, 215.9 126.5 Q 215.9 122.7, 214.3 120.8 Q 212.7 118.9, 209.8 118.9 Q 206.8 118.9, 205.2 120.8 Q 203.7 122.7, 203.7 126.5 Q 203.7 130.4, 205.2 132.4 Q 206.8 134.3, 209.8 134.3 \" fill=\"#FF0000\"/>\n<path class=\"atom-3\" d=\"M 221.4 119.8 L 228.0 119.8 L 228.0 121.3 L 221.4 121.3 L 221.4 119.8 \" fill=\"#FF0000\"/>\n<path class=\"atom-4\" d=\"M 62.6 15.2 L 65.3 15.2 L 65.3 23.4 L 75.1 23.4 L 75.1 15.2 L 77.7 15.2 L 77.7 34.5 L 75.1 34.5 L 75.1 25.6 L 65.3 25.6 L 65.3 34.5 L 62.6 34.5 L 62.6 15.2 \" fill=\"#000000\"/>\n<path class=\"atom-5\" d=\"M 12.0 63.6 L 14.6 63.6 L 14.6 71.8 L 24.5 71.8 L 24.5 63.6 L 27.1 63.6 L 27.1 82.9 L 24.5 82.9 L 24.5 74.0 L 14.6 74.0 L 14.6 82.9 L 12.0 82.9 L 12.0 63.6 \" fill=\"#000000\"/>\n<path class=\"atom-6\" d=\"M 20.4 70.7 L 23.0 70.7 L 23.0 78.9 L 32.8 78.9 L 32.8 70.7 L 35.5 70.7 L 35.5 90.0 L 32.8 90.0 L 32.8 81.1 L 23.0 81.1 L 23.0 90.0 L 20.4 90.0 L 20.4 70.7 \" fill=\"#000000\"/>\n<path class=\"atom-7\" d=\"M 98.8 123.6 L 101.4 123.6 L 101.4 131.8 L 111.2 131.8 L 111.2 123.6 L 113.9 123.6 L 113.9 142.9 L 111.2 142.9 L 111.2 134.0 L 101.4 134.0 L 101.4 142.9 L 98.8 142.9 L 98.8 123.6 \" fill=\"#000000\"/>\n<path class=\"atom-8\" d=\"M 90.6 145.5 L 93.2 145.5 L 93.2 153.7 L 103.1 153.7 L 103.1 145.5 L 105.7 145.5 L 105.7 164.8 L 103.1 164.8 L 103.1 155.9 L 93.2 155.9 L 93.2 164.8 L 90.6 164.8 L 90.6 145.5 \" fill=\"#000000\"/>\n<path class=\"atom-9\" d=\"M 157.6 52.2 L 160.2 52.2 L 160.2 60.4 L 170.0 60.4 L 170.0 52.2 L 172.7 52.2 L 172.7 71.5 L 170.0 71.5 L 170.0 62.6 L 160.2 62.6 L 160.2 71.5 L 157.6 71.5 L 157.6 52.2 \" fill=\"#000000\"/>\n<path class=\"atom-10\" d=\"M 157.9 40.3 L 160.5 40.3 L 160.5 48.5 L 170.4 48.5 L 170.4 40.3 L 173.0 40.3 L 173.0 59.6 L 170.4 59.6 L 170.4 50.7 L 160.5 50.7 L 160.5 59.6 L 157.9 59.6 L 157.9 40.3 \" fill=\"#000000\"/>\n</svg>"
     },
     "execution_count": 97,
     "metadata": {},
     "output_type": "execute_result"
    }
   ],
   "execution_count": 97
  },
  {
   "metadata": {},
   "cell_type": "markdown",
   "source": "When working with entire poses, often denoted as `v` in pyrite, the {meth}`~pyrite.Ligand.update` method can be used as a shortcut, to set the entire pose in one go:",
   "id": "9f424b1a47aa24b6"
  },
  {
   "metadata": {
    "ExecuteTime": {
     "end_time": "2025-06-16T07:10:58.578532Z",
     "start_time": "2025-06-16T07:10:58.575666Z"
    }
   },
   "cell_type": "code",
   "source": [
    "#  roll, pitch, yaw, x, y, z, dihedral_0\n",
    "v = [0, np.pi, np.pi / 2, 0, 0, 0, np.pi / 2]\n",
    "ligand.update(v)\n",
    "ligand.svg"
   ],
   "id": "86746a24e8ee791f",
   "outputs": [
    {
     "data": {
      "text/plain": [
       "<IPython.core.display.SVG object>"
      ],
      "image/svg+xml": "<svg xmlns=\"http://www.w3.org/2000/svg\" xmlns:rdkit=\"http://www.rdkit.org/xml\" xmlns:xlink=\"http://www.w3.org/1999/xlink\" version=\"1.1\" baseProfile=\"full\" xml:space=\"preserve\" width=\"240px\" height=\"180px\" viewBox=\"0 0 240 180\">\n<!-- END OF HEADER -->\n<rect style=\"opacity:1.0;fill:#FFFFFF;stroke:none\" width=\"240.0\" height=\"180.0\" x=\"0.0\" y=\"0.0\"> </rect>\n<path class=\"bond-0 atom-0 atom-1\" d=\"M 135.0,136.0 L 97.6,94.1\" style=\"fill:none;fill-rule:evenodd;stroke:#000000;stroke-width:2.0px;stroke-linecap:butt;stroke-linejoin:miter;stroke-opacity:1\"/>\n<path class=\"bond-1 atom-1 atom-2\" d=\"M 97.6,94.1 L 125.4,45.5\" style=\"fill:none;fill-rule:evenodd;stroke:#000000;stroke-width:2.0px;stroke-linecap:butt;stroke-linejoin:miter;stroke-opacity:1\"/>\n<path class=\"bond-2 atom-2 atom-3\" d=\"M 125.4,45.5 L 130.4,41.5\" style=\"fill:none;fill-rule:evenodd;stroke:#000000;stroke-width:2.0px;stroke-linecap:butt;stroke-linejoin:miter;stroke-opacity:1\"/>\n<path class=\"bond-2 atom-2 atom-3\" d=\"M 130.4,41.5 L 135.3,37.5\" style=\"fill:none;fill-rule:evenodd;stroke:#FF0000;stroke-width:2.0px;stroke-linecap:butt;stroke-linejoin:miter;stroke-opacity:1\"/>\n<path class=\"bond-3 atom-0 atom-4\" d=\"M 135.0,136.0 L 165.6,124.5\" style=\"fill:none;fill-rule:evenodd;stroke:#000000;stroke-width:2.0px;stroke-linecap:butt;stroke-linejoin:miter;stroke-opacity:1\"/>\n<path class=\"bond-4 atom-0 atom-5\" d=\"M 135.0,136.0 L 134.2,153.7\" style=\"fill:none;fill-rule:evenodd;stroke:#000000;stroke-width:2.0px;stroke-linecap:butt;stroke-linejoin:miter;stroke-opacity:1\"/>\n<path class=\"bond-5 atom-0 atom-6\" d=\"M 135.0,136.0 L 131.2,146.9\" style=\"fill:none;fill-rule:evenodd;stroke:#000000;stroke-width:2.0px;stroke-linecap:butt;stroke-linejoin:miter;stroke-opacity:1\"/>\n<path class=\"bond-6 atom-1 atom-7\" d=\"M 97.6,94.1 L 92.3,93.3\" style=\"fill:none;fill-rule:evenodd;stroke:#000000;stroke-width:2.0px;stroke-linecap:butt;stroke-linejoin:miter;stroke-opacity:1\"/>\n<path class=\"bond-7 atom-1 atom-8\" d=\"M 97.6,94.1 L 74.4,97.6\" style=\"fill:none;fill-rule:evenodd;stroke:#000000;stroke-width:2.0px;stroke-linecap:butt;stroke-linejoin:miter;stroke-opacity:1\"/>\n<path class=\"bond-8 atom-2 atom-9\" d=\"M 125.4,45.5 L 109.8,26.3\" style=\"fill:none;fill-rule:evenodd;stroke:#000000;stroke-width:2.0px;stroke-linecap:butt;stroke-linejoin:miter;stroke-opacity:1\"/>\n<path class=\"bond-9 atom-2 atom-10\" d=\"M 125.4,45.5 L 149.7,54.4\" style=\"fill:none;fill-rule:evenodd;stroke:#000000;stroke-width:2.0px;stroke-linecap:butt;stroke-linejoin:miter;stroke-opacity:1\"/>\n<path class=\"atom-3\" d=\"M 136.8 30.5 Q 136.8 26.7, 138.7 24.6 Q 140.6 22.5, 144.1 22.5 Q 147.6 22.5, 149.5 24.6 Q 151.3 26.7, 151.3 30.5 Q 151.3 34.3, 149.4 36.5 Q 147.5 38.7, 144.1 38.7 Q 140.6 38.7, 138.7 36.5 Q 136.8 34.4, 136.8 30.5 M 144.1 36.9 Q 146.5 36.9, 147.8 35.3 Q 149.1 33.7, 149.1 30.5 Q 149.1 27.4, 147.8 25.8 Q 146.5 24.2, 144.1 24.2 Q 141.7 24.2, 140.4 25.8 Q 139.1 27.4, 139.1 30.5 Q 139.1 33.7, 140.4 35.3 Q 141.7 36.9, 144.1 36.9 \" fill=\"#FF0000\"/>\n<path class=\"atom-3\" d=\"M 153.6 25.0 L 159.0 25.0 L 159.0 26.2 L 153.6 26.2 L 153.6 25.0 \" fill=\"#FF0000\"/>\n<path class=\"atom-4\" d=\"M 167.1 113.8 L 169.3 113.8 L 169.3 120.5 L 177.4 120.5 L 177.4 113.8 L 179.5 113.8 L 179.5 129.6 L 177.4 129.6 L 177.4 122.3 L 169.3 122.3 L 169.3 129.6 L 167.1 129.6 L 167.1 113.8 \" fill=\"#000000\"/>\n<path class=\"atom-5\" d=\"M 127.5 155.2 L 129.7 155.2 L 129.7 161.9 L 137.7 161.9 L 137.7 155.2 L 139.9 155.2 L 139.9 171.0 L 137.7 171.0 L 137.7 163.7 L 129.7 163.7 L 129.7 171.0 L 127.5 171.0 L 127.5 155.2 \" fill=\"#000000\"/>\n<path class=\"atom-6\" d=\"M 121.7 148.4 L 123.9 148.4 L 123.9 155.1 L 131.9 155.1 L 131.9 148.4 L 134.1 148.4 L 134.1 164.2 L 131.9 164.2 L 131.9 156.9 L 123.9 156.9 L 123.9 164.2 L 121.7 164.2 L 121.7 148.4 \" fill=\"#000000\"/>\n<path class=\"atom-7\" d=\"M 78.4 84.2 L 80.6 84.2 L 80.6 90.9 L 88.7 90.9 L 88.7 84.2 L 90.8 84.2 L 90.8 100.0 L 88.7 100.0 L 88.7 92.7 L 80.6 92.7 L 80.6 100.0 L 78.4 100.0 L 78.4 84.2 \" fill=\"#000000\"/>\n<path class=\"atom-8\" d=\"M 60.5 90.9 L 62.6 90.9 L 62.6 97.6 L 70.7 97.6 L 70.7 90.9 L 72.9 90.9 L 72.9 106.7 L 70.7 106.7 L 70.7 99.4 L 62.6 99.4 L 62.6 106.7 L 60.5 106.7 L 60.5 90.9 \" fill=\"#000000\"/>\n<path class=\"atom-9\" d=\"M 96.0 9.0 L 98.1 9.0 L 98.1 15.7 L 106.2 15.7 L 106.2 9.0 L 108.3 9.0 L 108.3 24.8 L 106.2 24.8 L 106.2 17.5 L 98.1 17.5 L 98.1 24.8 L 96.0 24.8 L 96.0 9.0 \" fill=\"#000000\"/>\n<path class=\"atom-10\" d=\"M 151.2 49.4 L 153.3 49.4 L 153.3 56.1 L 161.4 56.1 L 161.4 49.4 L 163.5 49.4 L 163.5 65.1 L 161.4 65.1 L 161.4 57.9 L 153.3 57.9 L 153.3 65.1 L 151.2 65.1 L 151.2 49.4 \" fill=\"#000000\"/>\n</svg>"
     },
     "execution_count": 98,
     "metadata": {},
     "output_type": "execute_result"
    }
   ],
   "execution_count": 98
  },
  {
   "metadata": {},
   "cell_type": "markdown",
   "source": "## Visualizing Ligands",
   "id": "be5f4b4b817bf8ed"
  },
  {
   "metadata": {},
   "cell_type": "markdown",
   "source": "Coming soon...",
   "id": "82b87733b6dfeb0b"
  },
  {
   "metadata": {},
   "cell_type": "code",
   "outputs": [],
   "execution_count": null,
   "source": "ligand.viewer",
   "id": "14a2c56af71be6c6"
  },
  {
   "metadata": {},
   "cell_type": "markdown",
   "source": "## Saving Ligands",
   "id": "94cce387885e5dcd"
  },
  {
   "metadata": {},
   "cell_type": "markdown",
   "source": "Coming soon...",
   "id": "ad62529eb67b9e77"
  },
  {
   "metadata": {},
   "cell_type": "code",
   "outputs": [],
   "execution_count": null,
   "source": "",
   "id": "8e4313e472025fb6"
  }
 ],
 "metadata": {
  "kernelspec": {
   "display_name": "Python 3",
   "language": "python",
   "name": "python3"
  },
  "language_info": {
   "codemirror_mode": {
    "name": "ipython",
    "version": 2
   },
   "file_extension": ".py",
   "mimetype": "text/x-python",
   "name": "python",
   "nbconvert_exporter": "python",
   "pygments_lexer": "ipython2",
   "version": "2.7.6"
  }
 },
 "nbformat": 4,
 "nbformat_minor": 5
}
